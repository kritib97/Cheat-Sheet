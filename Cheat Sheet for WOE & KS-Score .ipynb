{
 "cells": [
  {
   "cell_type": "markdown",
   "metadata": {},
   "source": [
    "# Weight of Evidence"
   ]
  },
  {
   "cell_type": "code",
   "execution_count": null,
   "metadata": {},
   "outputs": [],
   "source": [
    "# Get number of events and non-events per sub-category in a categorical variable\n",
    "a = pd.DataFrame(pd.crosstab(df['Col1'],df['Event_Occurred/Not'])) \n",
    "# Get the top 6 sub categories having the most no. of events\n",
    "a = a.sort_values(by=1, ascending=False)\n",
    "#a.head(13)\n",
    "b = a[:6]\n",
    "\n",
    "# Find Weight of evidence & Information Value\n",
    "b.iloc[5,0] = a[0].iloc[5:].sum()\n",
    "b.iloc[5,1] = a[1].iloc[5:].sum()\n",
    "b['Event_A'] = b[1]\n",
    "b['Non-Event_A'] = b[0]\n",
    "del b[0]\n",
    "del b[1]\n",
    "b['%Event']= b['Event_A']/b['Event_A'].sum()\n",
    "b['%Non-Event']= b['Non-Event_A']/b['Non-Event_A'].sum()\n",
    "b['%Non-Event'] = b['%Non-Event'].astype(float)\n",
    "b['%Event'] = b['%Event'].astype(float)\n",
    "import math\n",
    "b['WOE']=np.log(b['%Non-Event']/b['%Event'])\n",
    "b['%Event - %Non-Event']=b['%Event'] - b['%Non-Event']\n",
    "b['IV'] = abs(b['%Event - %Non-Event']*b['WOE'])\n",
    "b"
   ]
  },
  {
   "cell_type": "markdown",
   "metadata": {},
   "source": [
    "# KS-Score for Random Forest"
   ]
  },
  {
   "cell_type": "code",
   "execution_count": null,
   "metadata": {},
   "outputs": [],
   "source": [
    "from sklearn.model_selection import train_test_split\n",
    "from sklearn.ensemble import RandomForestClassifier\n",
    "\n",
    "X_train,X_test,Y_train,Y_test = train_test_split(X,Y,test_size=0.20,random_state=0)\n",
    "\n",
    "clf = RandomForestClassifier(n_estimators=36,max_depth=3, max_features='sqrt', random_state=10) # max_features: reduces the variation in accuracy for same data, random_state: reduces variation in accuracy for different train-test data\n",
    "clf.fit(X_train,Y_train)\n",
    "Y_pred=clf.predict(X_test)\n",
    "\n",
    "predictions = clf.predict_proba(X_test) # To get predicted probabilities\n",
    "predictions=pd.DataFrame(predictions)\n",
    "predictions.columns=[\"p0\",\"p1\"]\n",
    "p=predictions['p1']\n",
    "p=pd.DataFrame(p,columns=['p1'])\n",
    "p.columns=['p1']\n",
    "Y_test=pd.DataFrame(Y_test)\n",
    "df=pd.concat([Y_test.reset_index(drop=True),p.reset_index(drop=True)],axis=1)\n",
    "df\n",
    "\n",
    "########################################################################################\n",
    "\n",
    "#KS - Score in the form of deciles (having equal size)\n",
    "a = list(range(1,11))\n",
    "b = list(np.arange(0,1,0.1))\n",
    "b = list(np.around(np.array(b),2))\n",
    "c = list(np.arange(0.1,1.1,0.1))\n",
    "c = list(np.around(np.array(c),2))\n",
    "data ={'Decile':a,\n",
    "       'Min-Prob': b,\n",
    "       'Max-Prob':c}\n",
    "t1 = pd.DataFrame(data)\n",
    "\n",
    "data1 = df[df['INC_SSO Occur'] ==1]\n",
    "data0 = df[df['INC_SSO Occur'] ==0]\n",
    "t1['Event'] = 0\n",
    "t1['Non-Event'] = 0\n",
    "for i in range(0,len(t1)):       # use range instead of directly accessing the data, otherwise for loop skips data\n",
    "    minp=t1['Min-Prob'].iloc[i]\n",
    "    maxp=t1['Max-Prob'].iloc[i]\n",
    "    e = (data1['p1'] > minp) & (data1['p1'] <= maxp)\n",
    "    ne = (data0['p1'] > minp) & (data0['p1'] <= maxp)\n",
    "    t1.loc[(t1['Min-Prob'] == minp) & (t1['Max-Prob'] == maxp), 'Event'] = e.values.sum()\n",
    "    t1.loc[(t1['Min-Prob'] == minp) & (t1['Max-Prob'] == maxp), 'Non-Event'] = ne.values.sum()\n",
    "    \n",
    "t1['Event Rate'] = t1['Event'] / t1['Event'].sum()\n",
    "t1['Non-Event Rate'] = t1['Non-Event'] / t1['Non-Event'].sum()\n",
    "t1['% Cum Event Rate'] = (t1['Event Rate'].cumsum())*100\n",
    "t1['% Cum Non-Event Rate'] = (t1['Non-Event Rate'].cumsum())*100\n",
    "t1['KS'] = round((t1['% Cum Non-Event Rate'] - t1['% Cum Event Rate']),2)\n",
    "print('KS Score: ' + str(round(max(t1['KS']),2)) + '%')\n",
    "t1"
   ]
  }
 ],
 "metadata": {
  "kernelspec": {
   "display_name": "Python 3",
   "language": "python",
   "name": "python3"
  },
  "language_info": {
   "codemirror_mode": {
    "name": "ipython",
    "version": 3
   },
   "file_extension": ".py",
   "mimetype": "text/x-python",
   "name": "python",
   "nbconvert_exporter": "python",
   "pygments_lexer": "ipython3",
   "version": "3.6.5"
  }
 },
 "nbformat": 4,
 "nbformat_minor": 4
}
